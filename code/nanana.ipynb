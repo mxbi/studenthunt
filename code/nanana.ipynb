{
 "cells": [
  {
   "cell_type": "code",
   "execution_count": 1,
   "metadata": {
    "collapsed": false
   },
   "outputs": [
    {
     "name": "stdout",
     "output_type": "stream",
     "text": [
      "Reading input data ...\n"
     ]
    }
   ],
   "source": [
    "import pandas as pd\n",
    "import numpy as np\n",
    "import xgboost as xgb\n",
    "from operator import itemgetter\n",
    "import datetime\n",
    "import pickle\n",
    "\n",
    "print('Reading input data ...')\n",
    "df_train = pd.read_csv('../input/train.csv')\n",
    "df_test = pd.read_csv('../input/test.csv')"
   ]
  },
  {
   "cell_type": "code",
   "execution_count": 6,
   "metadata": {
    "collapsed": false
   },
   "outputs": [
    {
     "data": {
      "text/plain": [
       "0.034320187883602964"
      ]
     },
     "execution_count": 6,
     "metadata": {},
     "output_type": "execute_result"
    }
   ],
   "source": [
    "df_train['Direction_Of_Wind'].isnull().mean()"
   ]
  },
  {
   "cell_type": "code",
   "execution_count": 7,
   "metadata": {
    "collapsed": false
   },
   "outputs": [
    {
     "name": "stdout",
     "output_type": "stream",
     "text": [
      "ID 0.0\n",
      "Park_ID 0.0\n",
      "Date 0.0\n",
      "Direction_Of_Wind 0.0343201878836\n",
      "Average_Breeze_Speed 0.0343201878836\n",
      "Max_Breeze_Speed 0.0343638411371\n",
      "Min_Breeze_Speed 0.0343463798357\n",
      "Var1 0.0723072490593\n",
      "Average_Atmospheric_Pressure 0.350928504701\n",
      "Max_Atmospheric_Pressure 0.350928504701\n",
      "Min_Atmospheric_Pressure 0.350928504701\n",
      "Min_Ambient_Pollution 0.276281441256\n",
      "Max_Ambient_Pollution 0.276281441256\n",
      "Average_Moisture_In_Park 0.000349226027816\n",
      "Max_Moisture_In_Park 0.000349226027816\n",
      "Min_Moisture_In_Park 0.000349226027816\n",
      "Location_Type 0.0\n",
      "Footfall 0.0\n"
     ]
    }
   ],
   "source": [
    "for c in df_train.columns:\n",
    "    print(c, df_train[c].isnull().mean())"
   ]
  },
  {
   "cell_type": "code",
   "execution_count": 26,
   "metadata": {
    "collapsed": true
   },
   "outputs": [],
   "source": [
    "aap_means = df_train.groupby('Date')['Direction_Of_Wind'].mean()"
   ]
  },
  {
   "cell_type": "code",
   "execution_count": 27,
   "metadata": {
    "collapsed": false
   },
   "outputs": [
    {
     "data": {
      "text/plain": [
       "4140"
      ]
     },
     "execution_count": 27,
     "metadata": {},
     "output_type": "execute_result"
    }
   ],
   "source": [
    "len(aap_means)"
   ]
  },
  {
   "cell_type": "code",
   "execution_count": 28,
   "metadata": {
    "collapsed": false
   },
   "outputs": [],
   "source": [
    "df_train['Direction_Of_Wind'] = df_train['Date'].apply(lambda x: aap_means[x])"
   ]
  },
  {
   "cell_type": "code",
   "execution_count": 29,
   "metadata": {
    "collapsed": false
   },
   "outputs": [
    {
     "data": {
      "text/html": [
       "<div>\n",
       "<table border=\"1\" class=\"dataframe\">\n",
       "  <thead>\n",
       "    <tr style=\"text-align: right;\">\n",
       "      <th></th>\n",
       "      <th>Direction_Of_Wind</th>\n",
       "      <th>aap_mean</th>\n",
       "    </tr>\n",
       "  </thead>\n",
       "  <tbody>\n",
       "    <tr>\n",
       "      <th>0</th>\n",
       "      <td>177.518519</td>\n",
       "      <td>324.631579</td>\n",
       "    </tr>\n",
       "    <tr>\n",
       "      <th>1</th>\n",
       "      <td>258.703704</td>\n",
       "      <td>331.368421</td>\n",
       "    </tr>\n",
       "    <tr>\n",
       "      <th>2</th>\n",
       "      <td>298.962963</td>\n",
       "      <td>321.263158</td>\n",
       "    </tr>\n",
       "    <tr>\n",
       "      <th>3</th>\n",
       "      <td>297.074074</td>\n",
       "      <td>337.052632</td>\n",
       "    </tr>\n",
       "    <tr>\n",
       "      <th>4</th>\n",
       "      <td>214.074074</td>\n",
       "      <td>322.105263</td>\n",
       "    </tr>\n",
       "    <tr>\n",
       "      <th>5</th>\n",
       "      <td>212.481481</td>\n",
       "      <td>317.473684</td>\n",
       "    </tr>\n",
       "    <tr>\n",
       "      <th>6</th>\n",
       "      <td>252.259259</td>\n",
       "      <td>333.894737</td>\n",
       "    </tr>\n",
       "    <tr>\n",
       "      <th>7</th>\n",
       "      <td>210.481481</td>\n",
       "      <td>285.263158</td>\n",
       "    </tr>\n",
       "    <tr>\n",
       "      <th>8</th>\n",
       "      <td>193.925926</td>\n",
       "      <td>293.684211</td>\n",
       "    </tr>\n",
       "    <tr>\n",
       "      <th>9</th>\n",
       "      <td>214.925926</td>\n",
       "      <td>284.421053</td>\n",
       "    </tr>\n",
       "    <tr>\n",
       "      <th>10</th>\n",
       "      <td>97.222222</td>\n",
       "      <td>298.105263</td>\n",
       "    </tr>\n",
       "    <tr>\n",
       "      <th>11</th>\n",
       "      <td>202.962963</td>\n",
       "      <td>262.105263</td>\n",
       "    </tr>\n",
       "    <tr>\n",
       "      <th>12</th>\n",
       "      <td>244.296296</td>\n",
       "      <td>317.263158</td>\n",
       "    </tr>\n",
       "    <tr>\n",
       "      <th>13</th>\n",
       "      <td>182.962963</td>\n",
       "      <td>311.789474</td>\n",
       "    </tr>\n",
       "    <tr>\n",
       "      <th>14</th>\n",
       "      <td>133.481481</td>\n",
       "      <td>276.421053</td>\n",
       "    </tr>\n",
       "    <tr>\n",
       "      <th>15</th>\n",
       "      <td>174.074074</td>\n",
       "      <td>318.736842</td>\n",
       "    </tr>\n",
       "    <tr>\n",
       "      <th>16</th>\n",
       "      <td>228.814815</td>\n",
       "      <td>299.578947</td>\n",
       "    </tr>\n",
       "    <tr>\n",
       "      <th>17</th>\n",
       "      <td>149.370370</td>\n",
       "      <td>307.157895</td>\n",
       "    </tr>\n",
       "    <tr>\n",
       "      <th>18</th>\n",
       "      <td>106.703704</td>\n",
       "      <td>308.000000</td>\n",
       "    </tr>\n",
       "    <tr>\n",
       "      <th>19</th>\n",
       "      <td>117.962963</td>\n",
       "      <td>284.631579</td>\n",
       "    </tr>\n",
       "    <tr>\n",
       "      <th>20</th>\n",
       "      <td>96.370370</td>\n",
       "      <td>270.736842</td>\n",
       "    </tr>\n",
       "    <tr>\n",
       "      <th>21</th>\n",
       "      <td>137.703704</td>\n",
       "      <td>285.894737</td>\n",
       "    </tr>\n",
       "    <tr>\n",
       "      <th>22</th>\n",
       "      <td>106.037037</td>\n",
       "      <td>285.263158</td>\n",
       "    </tr>\n",
       "    <tr>\n",
       "      <th>23</th>\n",
       "      <td>106.037037</td>\n",
       "      <td>331.157895</td>\n",
       "    </tr>\n",
       "    <tr>\n",
       "      <th>24</th>\n",
       "      <td>206.148148</td>\n",
       "      <td>337.052632</td>\n",
       "    </tr>\n",
       "    <tr>\n",
       "      <th>25</th>\n",
       "      <td>144.148148</td>\n",
       "      <td>304.210526</td>\n",
       "    </tr>\n",
       "    <tr>\n",
       "      <th>26</th>\n",
       "      <td>187.111111</td>\n",
       "      <td>329.684211</td>\n",
       "    </tr>\n",
       "    <tr>\n",
       "      <th>27</th>\n",
       "      <td>164.259259</td>\n",
       "      <td>308.631579</td>\n",
       "    </tr>\n",
       "    <tr>\n",
       "      <th>28</th>\n",
       "      <td>132.074074</td>\n",
       "      <td>318.315789</td>\n",
       "    </tr>\n",
       "    <tr>\n",
       "      <th>29</th>\n",
       "      <td>218.074074</td>\n",
       "      <td>288.210526</td>\n",
       "    </tr>\n",
       "    <tr>\n",
       "      <th>...</th>\n",
       "      <td>...</td>\n",
       "      <td>...</td>\n",
       "    </tr>\n",
       "    <tr>\n",
       "      <th>114509</th>\n",
       "      <td>214.153846</td>\n",
       "      <td>304.952381</td>\n",
       "    </tr>\n",
       "    <tr>\n",
       "      <th>114510</th>\n",
       "      <td>230.653846</td>\n",
       "      <td>311.809524</td>\n",
       "    </tr>\n",
       "    <tr>\n",
       "      <th>114511</th>\n",
       "      <td>242.076923</td>\n",
       "      <td>319.619048</td>\n",
       "    </tr>\n",
       "    <tr>\n",
       "      <th>114512</th>\n",
       "      <td>228.038462</td>\n",
       "      <td>313.904762</td>\n",
       "    </tr>\n",
       "    <tr>\n",
       "      <th>114513</th>\n",
       "      <td>245.076923</td>\n",
       "      <td>305.714286</td>\n",
       "    </tr>\n",
       "    <tr>\n",
       "      <th>114514</th>\n",
       "      <td>209.769231</td>\n",
       "      <td>305.904762</td>\n",
       "    </tr>\n",
       "    <tr>\n",
       "      <th>114515</th>\n",
       "      <td>241.923077</td>\n",
       "      <td>315.238095</td>\n",
       "    </tr>\n",
       "    <tr>\n",
       "      <th>114516</th>\n",
       "      <td>225.192308</td>\n",
       "      <td>313.904762</td>\n",
       "    </tr>\n",
       "    <tr>\n",
       "      <th>114517</th>\n",
       "      <td>175.692308</td>\n",
       "      <td>309.523810</td>\n",
       "    </tr>\n",
       "    <tr>\n",
       "      <th>114518</th>\n",
       "      <td>201.384615</td>\n",
       "      <td>312.380952</td>\n",
       "    </tr>\n",
       "    <tr>\n",
       "      <th>114519</th>\n",
       "      <td>194.423077</td>\n",
       "      <td>319.619048</td>\n",
       "    </tr>\n",
       "    <tr>\n",
       "      <th>114520</th>\n",
       "      <td>196.692308</td>\n",
       "      <td>305.904762</td>\n",
       "    </tr>\n",
       "    <tr>\n",
       "      <th>114521</th>\n",
       "      <td>199.307692</td>\n",
       "      <td>304.380952</td>\n",
       "    </tr>\n",
       "    <tr>\n",
       "      <th>114522</th>\n",
       "      <td>115.500000</td>\n",
       "      <td>289.333333</td>\n",
       "    </tr>\n",
       "    <tr>\n",
       "      <th>114523</th>\n",
       "      <td>259.538462</td>\n",
       "      <td>315.047619</td>\n",
       "    </tr>\n",
       "    <tr>\n",
       "      <th>114524</th>\n",
       "      <td>257.153846</td>\n",
       "      <td>311.238095</td>\n",
       "    </tr>\n",
       "    <tr>\n",
       "      <th>114525</th>\n",
       "      <td>195.500000</td>\n",
       "      <td>309.142857</td>\n",
       "    </tr>\n",
       "    <tr>\n",
       "      <th>114526</th>\n",
       "      <td>256.730769</td>\n",
       "      <td>298.476190</td>\n",
       "    </tr>\n",
       "    <tr>\n",
       "      <th>114527</th>\n",
       "      <td>221.500000</td>\n",
       "      <td>290.285714</td>\n",
       "    </tr>\n",
       "    <tr>\n",
       "      <th>114528</th>\n",
       "      <td>242.884615</td>\n",
       "      <td>254.476190</td>\n",
       "    </tr>\n",
       "    <tr>\n",
       "      <th>114529</th>\n",
       "      <td>202.000000</td>\n",
       "      <td>286.666667</td>\n",
       "    </tr>\n",
       "    <tr>\n",
       "      <th>114530</th>\n",
       "      <td>261.115385</td>\n",
       "      <td>304.000000</td>\n",
       "    </tr>\n",
       "    <tr>\n",
       "      <th>114531</th>\n",
       "      <td>214.884615</td>\n",
       "      <td>287.809524</td>\n",
       "    </tr>\n",
       "    <tr>\n",
       "      <th>114532</th>\n",
       "      <td>216.615385</td>\n",
       "      <td>285.142857</td>\n",
       "    </tr>\n",
       "    <tr>\n",
       "      <th>114533</th>\n",
       "      <td>209.384615</td>\n",
       "      <td>301.904762</td>\n",
       "    </tr>\n",
       "    <tr>\n",
       "      <th>114534</th>\n",
       "      <td>201.038462</td>\n",
       "      <td>298.285714</td>\n",
       "    </tr>\n",
       "    <tr>\n",
       "      <th>114535</th>\n",
       "      <td>239.192308</td>\n",
       "      <td>293.714286</td>\n",
       "    </tr>\n",
       "    <tr>\n",
       "      <th>114536</th>\n",
       "      <td>262.384615</td>\n",
       "      <td>304.571429</td>\n",
       "    </tr>\n",
       "    <tr>\n",
       "      <th>114537</th>\n",
       "      <td>194.423077</td>\n",
       "      <td>271.428571</td>\n",
       "    </tr>\n",
       "    <tr>\n",
       "      <th>114538</th>\n",
       "      <td>210.000000</td>\n",
       "      <td>275.428571</td>\n",
       "    </tr>\n",
       "  </tbody>\n",
       "</table>\n",
       "<p>114539 rows × 2 columns</p>\n",
       "</div>"
      ],
      "text/plain": [
       "        Direction_Of_Wind    aap_mean\n",
       "0              177.518519  324.631579\n",
       "1              258.703704  331.368421\n",
       "2              298.962963  321.263158\n",
       "3              297.074074  337.052632\n",
       "4              214.074074  322.105263\n",
       "5              212.481481  317.473684\n",
       "6              252.259259  333.894737\n",
       "7              210.481481  285.263158\n",
       "8              193.925926  293.684211\n",
       "9              214.925926  284.421053\n",
       "10              97.222222  298.105263\n",
       "11             202.962963  262.105263\n",
       "12             244.296296  317.263158\n",
       "13             182.962963  311.789474\n",
       "14             133.481481  276.421053\n",
       "15             174.074074  318.736842\n",
       "16             228.814815  299.578947\n",
       "17             149.370370  307.157895\n",
       "18             106.703704  308.000000\n",
       "19             117.962963  284.631579\n",
       "20              96.370370  270.736842\n",
       "21             137.703704  285.894737\n",
       "22             106.037037  285.263158\n",
       "23             106.037037  331.157895\n",
       "24             206.148148  337.052632\n",
       "25             144.148148  304.210526\n",
       "26             187.111111  329.684211\n",
       "27             164.259259  308.631579\n",
       "28             132.074074  318.315789\n",
       "29             218.074074  288.210526\n",
       "...                   ...         ...\n",
       "114509         214.153846  304.952381\n",
       "114510         230.653846  311.809524\n",
       "114511         242.076923  319.619048\n",
       "114512         228.038462  313.904762\n",
       "114513         245.076923  305.714286\n",
       "114514         209.769231  305.904762\n",
       "114515         241.923077  315.238095\n",
       "114516         225.192308  313.904762\n",
       "114517         175.692308  309.523810\n",
       "114518         201.384615  312.380952\n",
       "114519         194.423077  319.619048\n",
       "114520         196.692308  305.904762\n",
       "114521         199.307692  304.380952\n",
       "114522         115.500000  289.333333\n",
       "114523         259.538462  315.047619\n",
       "114524         257.153846  311.238095\n",
       "114525         195.500000  309.142857\n",
       "114526         256.730769  298.476190\n",
       "114527         221.500000  290.285714\n",
       "114528         242.884615  254.476190\n",
       "114529         202.000000  286.666667\n",
       "114530         261.115385  304.000000\n",
       "114531         214.884615  287.809524\n",
       "114532         216.615385  285.142857\n",
       "114533         209.384615  301.904762\n",
       "114534         201.038462  298.285714\n",
       "114535         239.192308  293.714286\n",
       "114536         262.384615  304.571429\n",
       "114537         194.423077  271.428571\n",
       "114538         210.000000  275.428571\n",
       "\n",
       "[114539 rows x 2 columns]"
      ]
     },
     "execution_count": 29,
     "metadata": {},
     "output_type": "execute_result"
    }
   ],
   "source": [
    "df_train[['Direction_Of_Wind', 'aap_mean']]"
   ]
  },
  {
   "cell_type": "code",
   "execution_count": 30,
   "metadata": {
    "collapsed": false
   },
   "outputs": [
    {
     "data": {
      "text/plain": [
       "array([[ 1.       ,  0.1661593],\n",
       "       [ 0.1661593,  1.       ]])"
      ]
     },
     "execution_count": 30,
     "metadata": {},
     "output_type": "execute_result"
    }
   ],
   "source": [
    "dl = df_train.loc[df_train.Direction_Of_Wind > 0]\n",
    "np.corrcoef(dl['Direction_Of_Wind'], dl['aap_mean'])"
   ]
  },
  {
   "cell_type": "code",
   "execution_count": 18,
   "metadata": {
    "collapsed": false
   },
   "outputs": [
    {
     "name": "stdout",
     "output_type": "stream",
     "text": [
      "['ID', 'Park_ID', 'Date', 'Direction_Of_Wind', 'Average_Breeze_Speed', 'Max_Breeze_Speed', 'Min_Breeze_Speed', 'Var1', 'Average_Atmospheric_Pressure', 'Max_Atmospheric_Pressure', 'Min_Atmospheric_Pressure', 'Min_Ambient_Pollution', 'Max_Ambient_Pollution', 'Average_Moisture_In_Park', 'Max_Moisture_In_Park', 'Min_Moisture_In_Park', 'Location_Type', 'Footfall', 'aap_mean']\n"
     ]
    }
   ],
   "source": [
    "print(df_train.columns.tolist())"
   ]
  },
  {
   "cell_type": "code",
   "execution_count": null,
   "metadata": {
    "collapsed": true
   },
   "outputs": [],
   "source": []
  }
 ],
 "metadata": {
  "kernelspec": {
   "display_name": "Python 3",
   "language": "python",
   "name": "python3"
  },
  "language_info": {
   "codemirror_mode": {
    "name": "ipython",
    "version": 3
   },
   "file_extension": ".py",
   "mimetype": "text/x-python",
   "name": "python",
   "nbconvert_exporter": "python",
   "pygments_lexer": "ipython3",
   "version": "3.5.1"
  }
 },
 "nbformat": 4,
 "nbformat_minor": 0
}
